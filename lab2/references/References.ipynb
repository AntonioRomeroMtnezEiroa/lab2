{
 "cells": [
  {
   "cell_type": "markdown",
   "metadata": {},
   "source": [
    "#### Referencias\n",
    "\n",
    "https://github.com/lmntrixsid/Linear-and-Logistic-Regression-with-NumPy-and-Python/blob/master/Logistic_Regression_Completed.ipynb\n",
    "\n",
    "https://github.com/diegobodas/machine_learning_basics/blob/master/4.GradientDescent_CostFunctions.Rmd\n",
    "\n",
    "https://github.com/diegobodas/machine_learning_basics/blob/master/4.GradientDescent_CostFunctions.html\n",
    "\n",
    "https://towardsdatascience.com/gradient-descent-in-python-a0d07285742f\n",
    "\n",
    "https://towardsdatascience.com/implement-gradient-descent-in-python-9b93ed7108d1\n",
    "\n",
    "https://towardsdatascience.com/coding-deep-learning-for-beginners-linear-regression-part-2-cost-function-49545303d29f#:~:text=comes%20to%20help.-,Cost%20Function,formed%20in%20many%20different%20ways.\n",
    "\n",
    "https://towardsdatascience.com/machine-learning-fundamentals-via-linear-regression-41a5d11f5220\n",
    "\n",
    "https://towardsdatascience.com/andrew-ngs-machine-learning-course-in-python-logistic-regression-c0ae25509feb\n",
    "\n",
    "https://en.wikipedia.org/wiki/Binary_classification\n",
    "\n",
    "https://en.wikipedia.org/wiki/Sigmoid_function\n",
    "\n",
    "https://en.wikipedia.org/wiki/Loss_function\n",
    "\n",
    "https://en.wikipedia.org/wiki/Gradient_descent"
   ]
  }
 ],
 "metadata": {
  "kernelspec": {
   "display_name": "gradient",
   "language": "python",
   "name": "gradient"
  },
  "language_info": {
   "codemirror_mode": {
    "name": "ipython",
    "version": 3
   },
   "file_extension": ".py",
   "mimetype": "text/x-python",
   "name": "python",
   "nbconvert_exporter": "python",
   "pygments_lexer": "ipython3",
   "version": "3.7.9"
  }
 },
 "nbformat": 4,
 "nbformat_minor": 4
}
